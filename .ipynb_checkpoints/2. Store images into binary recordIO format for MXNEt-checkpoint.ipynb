{
 "cells": [
  {
   "cell_type": "markdown",
   "metadata": {},
   "source": [
    "Taken from \n",
    "https://gluon-cv.mxnet.io/build/examples_datasets/recordio.html\n",
    "\n"
   ]
  },
  {
   "cell_type": "code",
   "execution_count": 11,
   "metadata": {},
   "outputs": [
    {
     "name": "stdout",
     "output_type": "stream",
     "text": [
      "helmet 0\n",
      "nohelmet 1\n"
     ]
    }
   ],
   "source": [
    "# put the im2rec.py module in the path somewhere\n",
    "# https://github.com/apache/incubator-mxnet/blob/master/tools/im2rec.py\n",
    "\n",
    "# Image folder\n",
    "# ./train/helmet/image.jpg (helmet = class)\n",
    "\n",
    "# First, we need to generate a .lst file, i.e. a list of these \n",
    "# images containing label and filename information.\n",
    "!python ./im2rec.py ./val_rec ./test/ --recursive --list --num-thread=8\n",
    "\n"
   ]
  },
  {
   "cell_type": "code",
   "execution_count": 14,
   "metadata": {},
   "outputs": [
    {
     "name": "stdout",
     "output_type": "stream",
     "text": [
      "Creating .rec file from /home/ec2-user/SageMaker/train_rec.lst in /home/ec2-user/SageMaker\n",
      "time: 0.0051310062408447266  count: 0\n",
      "time: 0.24874138832092285  count: 1000\n"
     ]
    }
   ],
   "source": [
    "# Create .idx and .rec file for training\n",
    "!python im2rec.py ./train_rec ./train/ --recursive --pass-through --pack-label --num-thread 8"
   ]
  },
  {
   "cell_type": "code",
   "execution_count": null,
   "metadata": {},
   "outputs": [],
   "source": []
  }
 ],
 "metadata": {
  "kernelspec": {
   "display_name": "conda_mxnet_p36",
   "language": "python",
   "name": "conda_mxnet_p36"
  },
  "language_info": {
   "codemirror_mode": {
    "name": "ipython",
    "version": 3
   },
   "file_extension": ".py",
   "mimetype": "text/x-python",
   "name": "python",
   "nbconvert_exporter": "python",
   "pygments_lexer": "ipython3",
   "version": "3.6.4"
  }
 },
 "nbformat": 4,
 "nbformat_minor": 2
}
