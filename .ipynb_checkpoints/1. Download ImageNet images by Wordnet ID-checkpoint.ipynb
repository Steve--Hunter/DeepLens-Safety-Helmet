{
 "cells": [
  {
   "cell_type": "markdown",
   "metadata": {},
   "source": [
    "# Download ImageNet images by Wordnet ID\n",
    "Modified from https://github.com/kjaisingh/hardhat-detector/blob/master/download-neg-images.py\n",
    "Added \n",
    "-  Count of images and reporting\n",
    "-  Added continue on bad image (poisoned my .rec image file!)\n",
    "-  Parameterise the root folder and class for images\n"
   ]
  },
  {
   "cell_type": "code",
   "execution_count": 76,
   "metadata": {
    "scrolled": true
   },
   "outputs": [
    {
     "name": "stdout",
     "output_type": "stream",
     "text": [
      "http://farm4.static.flickr.com/3186/2606823711_b07495378f.jpg\n",
      "<http.client.HTTPResponse object at 0x7f577b986b38>\n",
      "http://farm4.static.flickr.com/3360/3236502886_6a505502c5.jpg\n",
      "<http.client.HTTPResponse object at 0x7f577b986550>\n",
      "http://farm5.static.flickr.com/4022/4322083945_bc2db8ccf3.jpg\n",
      "<http.client.HTTPResponse object at 0x7f577b986278>\n",
      "http://farm4.static.flickr.com/3121/2556445732_0f905b11e4.jpg\n",
      "<http.client.HTTPResponse object at 0x7f577b987668>\n",
      "http://farm4.static.flickr.com/3551/3443533285_2a70b92f2c.jpg\n",
      "<http.client.HTTPResponse object at 0x7f577b987ba8>\n",
      "http://farm1.static.flickr.com/224/491407069_8dbdc006c4.jpg\n",
      "<http.client.HTTPResponse object at 0x7f577b987320>\n",
      "http://farm1.static.flickr.com/33/42539714_c899059d27.jpg\n",
      "<http.client.HTTPResponse object at 0x7f577b986710>\n",
      "http://farm4.static.flickr.com/3512/3248952529_0bda5b70eb.jpg\n",
      "<http.client.HTTPResponse object at 0x7f577b9868d0>\n",
      "http://farm3.static.flickr.com/2461/3707202944_74e7a04f77.jpg\n",
      "<http.client.HTTPResponse object at 0x7f577b986cf8>\n",
      "http://farm4.static.flickr.com/3053/2664253302_956cb8356d.jpg\n",
      "<http.client.HTTPResponse object at 0x7f577b987470>\n",
      "Completed 10 images written to  ./train/nohelmet/\n",
      "http://farm4.static.flickr.com/3644/3349801965_d0268de7f5.jpg\n",
      "<http.client.HTTPResponse object at 0x7f577b986b38>\n",
      "http://farm1.static.flickr.com/15/22639560_8edd3afe6f.jpg\n",
      "<http.client.HTTPResponse object at 0x7f577b986b70>\n",
      "http://farm1.static.flickr.com/94/223377572_1a2590c521.jpg\n",
      "<http.client.HTTPResponse object at 0x7f577b986cf8>\n",
      "http://farm3.static.flickr.com/2325/2246167212_ff39c4d699.jpg\n",
      "<http.client.HTTPResponse object at 0x7f577b986ba8>\n",
      "http://fotosa.ru/stock_photo/Westend61_RM/p_2838903.jpg\n",
      "HTTP Error 403: Forbidden\n",
      "http://farm2.static.flickr.com/1160/536319721_cc51452ad5.jpg\n",
      "<http.client.HTTPResponse object at 0x7f577b986a58>\n",
      "http://farm4.static.flickr.com/3086/2336674146_71fa578fb5.jpg\n",
      "<http.client.HTTPResponse object at 0x7f577b986748>\n",
      "http://farm1.static.flickr.com/181/461311965_b430187841.jpg\n",
      "<http.client.HTTPResponse object at 0x7f577b9861d0>\n",
      "http://farm4.static.flickr.com/3143/3083759691_ebdc397703.jpg\n",
      "<http.client.HTTPResponse object at 0x7f577b9864a8>\n",
      "http://farm4.static.flickr.com/3574/3321180115_c61e8feaa7.jpg\n",
      "<http.client.HTTPResponse object at 0x7f577b9868d0>\n",
      "http://www.zingem.be/download/uitleenformulier/veiligheidshelm.jpg\n",
      "HTTP Error 403: Forbidden\n",
      "http://farm1.static.flickr.com/211/460855000_07f3dce134.jpg\n",
      "<http.client.HTTPResponse object at 0x7f577b986ef0>\n",
      "Completed 10 images written to  ./train/helmet/\n"
     ]
    }
   ],
   "source": [
    "#!/usr/bin/env python3\n",
    "# -*- coding: utf-8 -*-\n",
    "\"\"\"\n",
    "Created on Sun Feb 18 11:42:56 2018\n",
    "@author: KaranJaisingh\n",
    "Updated by Steve Hunter Fri Aug 24\n",
    " Count of images and reporting\n",
    " Added continue on bad image (poisoned my .rec image file!)\n",
    " Parameterise the root folder and class for images\n",
    " Exclude small images (likely to be no longer available)\n",
    "\"\"\"\n",
    "\n",
    "import cv2\n",
    "from six.moves import urllib\n",
    "import numpy as np\n",
    "import os\n",
    "\n",
    "def store_raw_images(pic_limit, img_path, img_class, imagenet_wnid):\n",
    "    # Get wnid from Imagenet\n",
    "    image_link = 'http://image-net.org/api/text/imagenet.synset.geturls?wnid='+imagenet_wnid\n",
    "    image_urls = urllib.request.urlopen(image_link).read().decode()\n",
    "    #name of path\n",
    "\n",
    "    if not os.path.exists(img_path+img_class):\n",
    "        os.makedirs(img_path+img_class)\n",
    "   \n",
    "    pic_num = 1\n",
    "    while(pic_num < pic_limit):\n",
    "        for i in image_urls.split('\\n'):\n",
    "            try:\n",
    "                print(i)\n",
    "                # next line seems to protect against bad reads, otherwise\n",
    "                # urlretrieve hangs\n",
    "                print(urllib.request.urlopen(i, data=None, timeout=1))\n",
    "                urllib.request.urlretrieve(i, img_path+img_class +str(pic_num)+'.jpg')\n",
    "                img = cv2.imread(img_path+img_class +str(pic_num)+'.jpg')\n",
    "                resized_image = cv2.resize(img, (300, 300))\n",
    "                cv2.imwrite(img_path+img_class+str(pic_num)+'.jpg', resized_image)\n",
    "                pic_num += 1\n",
    "\n",
    "            except Exception as e:\n",
    "                print(str(e))\n",
    "            if (pic_num > pic_limit):\n",
    "                break\n",
    "    print(\"Completed\", pic_limit, \"images written to \", img_path+img_class)\n",
    "\n",
    "\n"
   ]
  },
  {
   "cell_type": "code",
   "execution_count": 85,
   "metadata": {},
   "outputs": [],
   "source": [
    "# Get images of people (not wearing helmets)\n",
    "pic_limit = 10\n",
    "img_path = \"./train/\"\n",
    "img_class = \"nohelmet/\"\n",
    "# 'People' in Imagenet, http://image-net.org/synset?wnid=n07942152\n",
    "imagenet_wnid=\"n07942152\"\n",
    "\n",
    "store_raw_images(pic_limit, img_path, img_class, imagenet_wnid)\n",
    "\n",
    "# delete images that no longer exist,usually <8k bytes\n",
    "# See https://superuser.com/questions/644272/how-do-i-delete-all-files-smaller-than-a-certain-size-in-all-subfolders\n",
    "# '-8k' means 'less than 8k bytes'\n",
    "!find \"$img_path\"/\"$img_class\" -name \"*.*\" -size -8k delete\n",
    "\n"
   ]
  },
  {
   "cell_type": "code",
   "execution_count": 111,
   "metadata": {},
   "outputs": [
    {
     "name": "stdout",
     "output_type": "stream",
     "text": [
      "http://farm4.static.flickr.com/3644/3349801965_d0268de7f5.jpg\n",
      "<http.client.HTTPResponse object at 0x7f577b986780>\n",
      "http://farm1.static.flickr.com/15/22639560_8edd3afe6f.jpg\n",
      "<http.client.HTTPResponse object at 0x7f577b986588>\n",
      "http://farm1.static.flickr.com/94/223377572_1a2590c521.jpg\n",
      "<http.client.HTTPResponse object at 0x7f577b986898>\n",
      "http://farm3.static.flickr.com/2325/2246167212_ff39c4d699.jpg\n",
      "<http.client.HTTPResponse object at 0x7f577b986b38>\n",
      "http://fotosa.ru/stock_photo/Westend61_RM/p_2838903.jpg\n",
      "HTTP Error 403: Forbidden\n",
      "http://farm2.static.flickr.com/1160/536319721_cc51452ad5.jpg\n",
      "<http.client.HTTPResponse object at 0x7f577b986588>\n",
      "http://farm4.static.flickr.com/3086/2336674146_71fa578fb5.jpg\n",
      "<http.client.HTTPResponse object at 0x7f577b986240>\n",
      "http://farm1.static.flickr.com/181/461311965_b430187841.jpg\n",
      "<http.client.HTTPResponse object at 0x7f577b987898>\n",
      "http://farm4.static.flickr.com/3143/3083759691_ebdc397703.jpg\n",
      "<http.client.HTTPResponse object at 0x7f577b987a58>\n",
      "http://farm4.static.flickr.com/3574/3321180115_c61e8feaa7.jpg\n",
      "<http.client.HTTPResponse object at 0x7f577b987828>\n",
      "http://www.zingem.be/download/uitleenformulier/veiligheidshelm.jpg\n",
      "HTTP Error 403: Forbidden\n",
      "http://farm1.static.flickr.com/211/460855000_07f3dce134.jpg\n",
      "<http.client.HTTPResponse object at 0x7f577b987080>\n",
      "Completed 10 images written to  ./train/helmet/\n"
     ]
    }
   ],
   "source": [
    "# Get images of people (wearing helmets)\n",
    "pic_limit = 10\n",
    "img_path = \"./train/\"\n",
    "img_class = \"helmet/\"\n",
    "# 'Safety hat' in Imagenet, http://image-net.org/synset?wnid=n03492922\n",
    "imagenet_wnid=\"n03492922\"\n",
    "\n",
    "store_raw_images(pic_limit, img_path, img_class, imagenet_wnid)\n",
    "\n",
    "# delete images that no longer exist,usually <8k bytes\n",
    "# See https://superuser.com/questions/644272/how-do-i-delete-all-files-smaller-than-a-certain-size-in-all-subfolders\n",
    "# '-8k' means 'less than 8k bytes'\n",
    "!find \"$img_path\"/\"$img_class\" -name \"*.*\" -size -8k delete"
   ]
  },
  {
   "cell_type": "code",
   "execution_count": 90,
   "metadata": {},
   "outputs": [
    {
     "name": "stdout",
     "output_type": "stream",
     "text": [
      "10.jpg\t1.jpg  2.jpg  3.jpg  4.jpg  5.jpg  6.jpg  7.jpg  8.jpg\t9.jpg\r\n"
     ]
    }
   ],
   "source": [
    "!ls train/helmet\n"
   ]
  },
  {
   "cell_type": "code",
   "execution_count": null,
   "metadata": {},
   "outputs": [],
   "source": []
  }
 ],
 "metadata": {
  "kernelspec": {
   "display_name": "conda_mxnet_p36",
   "language": "python",
   "name": "conda_mxnet_p36"
  },
  "language_info": {
   "codemirror_mode": {
    "name": "ipython",
    "version": 3
   },
   "file_extension": ".py",
   "mimetype": "text/x-python",
   "name": "python",
   "nbconvert_exporter": "python",
   "pygments_lexer": "ipython3",
   "version": "3.6.4"
  }
 },
 "nbformat": 4,
 "nbformat_minor": 2
}
