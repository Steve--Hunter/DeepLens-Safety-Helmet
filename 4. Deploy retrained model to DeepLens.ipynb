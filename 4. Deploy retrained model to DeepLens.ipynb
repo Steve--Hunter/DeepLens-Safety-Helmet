{
 "cells": [
  {
   "cell_type": "markdown",
   "metadata": {},
   "source": [
    "# Deploy retrained model to DeepLens"
   ]
  },
  {
   "cell_type": "markdown",
   "metadata": {},
   "source": [
    "(from AWS lab deeplens-hotdog-or-not-hotdog\n",
    "https://github.com/aws-samples/reinvent-2017-deeplens-workshop)"
   ]
  },
  {
   "cell_type": "code",
   "execution_count": 12,
   "metadata": {},
   "outputs": [],
   "source": [
    "modelname = \"deeplens-model\""
   ]
  },
  {
   "cell_type": "markdown",
   "metadata": {},
   "source": [
    "Now let's push this serialized model to S3, where we can then optimize it for our DeepLense device and then push it down onto our device for inference."
   ]
  },
  {
   "cell_type": "code",
   "execution_count": 16,
   "metadata": {},
   "outputs": [
    {
     "name": "stdout",
     "output_type": "stream",
     "text": [
      "arn:aws:iam::211266271983:role/AmazonSageMaker-ExecutionRole-20180814T130765\n"
     ]
    },
    {
     "data": {
      "text/plain": [
       "s3.Object(bucket_name='deeplens-sagemaker-stevehunter', key='deeplens/deeplens-model-0000.params')"
      ]
     },
     "execution_count": 16,
     "metadata": {},
     "output_type": "execute_result"
    }
   ],
   "source": [
    "import boto3\n",
    "import re\n",
    "\n",
    "assumed_role = boto3.client('sts').get_caller_identity()['Arn']\n",
    "s3_access_role = re.sub(r'^(.+)sts::(\\d+):assumed-role/(.+?)/.*$', r'\\1iam::\\2:role/\\3', assumed_role)\n",
    "print(s3_access_role)\n",
    "s3 = boto3.resource('s3')\n",
    "bucket= 'deeplens-sagemaker-stevehunter' \n",
    "\n",
    "json = open(modelname+\"-symbol.json\", 'rb')\n",
    "params = open(modelname+\"-0000.params\", 'rb')\n",
    "s3.Bucket(bucket).put_object(Key='deeplens/'+modelname+'-symbol.json', Body=json)\n",
    "s3.Bucket(bucket).put_object(Key='deeplens/'+modelname+'-0000.params', Body=params)"
   ]
  },
  {
   "cell_type": "markdown",
   "metadata": {},
   "source": [
    "## Create a lambda function\n",
    "\n",
    "1. Navigate to Lambda console: https://console.aws.amazon.com/lambda/home?region=us-east-1#/functions\n",
    "2. Make sure you are on US East-1- N.Virginia region\n",
    "3. Click on Create function\n",
    "4. Click Author from scratch\n",
    "5. Name it deeplens-helmet-detection-full-name\n",
    "6. Choose an existing role\n",
    "7. Choose the existing deeplens_lambda role\n",
    "8. Click Create function\n",
    "\n",
    "## Configure your lambda function\n",
    "\n",
    "1. In the Runtime, change it to python 2.7\n",
    "2. In the handler box, change it to greengrassHelloWorld.function_handler\n",
    "3. In the code entry type, choose Upload a file from my github, copy paste this S3 link: https://github.com/Steve--Hunter/DeepLens-Safety-Helmet/deeplens-helmet-detection-lambda-function-steve-hunter.zip\n",
    "4. Click Save\n",
    "5. Make sure you verify the code you copied exists in the function\n",
    "\n",
    "## Publish your function\n",
    "1. In Actions tab, click publish and provide your name_sagemaker as the description\n",
    "\n",
    "## Create a Project\n",
    "\n",
    "1. Navigate to Projects in the AWS DeepLens console\n",
    "\n",
    "2. Click on Create a new project\n",
    "\n",
    "3. Click on Create a new blank project template\n",
    "\n",
    "4. Give the project a name: safety-helmet-detection\n",
    "\n",
    "5. Click on add model and choose the safetyhelmetdetection\n",
    "\n",
    "6. Click on Add function and choose the deeplens-helmet-detection-steve-hunter-full-name function\n",
    "\n",
    "7. Create project\n",
    "\n",
    "\n",
    "## Deploy project to AWS DeepLens\n",
    "\n",
    "1. Choose the project you just created\n",
    "\n",
    "2. Click deploy to device\n",
    "\n",
    "3. Choose your device\n",
    "\n",
    "4. Review and hit deploy\n",
    "\n",
    "## Use the streaming video feed to test out DeepLens\n",
    "\n",
    "1. From the DeepLens console, https://console.aws.amazon.com/deeplens, choose Devices - View output\n",
    "2. Follow the instructions for setting up your browser (note the streaming certificate was created when the DeepLens was first configured, so use that one if you saved it)\n",
    "3. Select View stream (usually https://192.168.2.17:4000/ for Chrome browsers)\n",
    "\n",
    "\n"
   ]
  },
  {
   "cell_type": "code",
   "execution_count": null,
   "metadata": {},
   "outputs": [],
   "source": []
  }
 ],
 "metadata": {
  "kernelspec": {
   "display_name": "conda_mxnet_p36",
   "language": "python",
   "name": "conda_mxnet_p36"
  },
  "language_info": {
   "codemirror_mode": {
    "name": "ipython",
    "version": 3
   },
   "file_extension": ".py",
   "mimetype": "text/x-python",
   "name": "python",
   "nbconvert_exporter": "python",
   "pygments_lexer": "ipython3",
   "version": "3.6.5"
  }
 },
 "nbformat": 4,
 "nbformat_minor": 2
}
