{
 "cells": [
  {
   "cell_type": "markdown",
   "metadata": {},
   "source": [
    "Taken from \n",
    "https://gluon-cv.mxnet.io/build/examples_datasets/recordio.html\n",
    "\n"
   ]
  },
  {
   "cell_type": "code",
   "execution_count": 2,
   "metadata": {},
   "outputs": [
    {
     "name": "stdout",
     "output_type": "stream",
     "text": [
      "helmet 0\n",
      "nohelmet 1\n",
      "Creating .rec file from /home/ec2-user/SageMaker/images_train.lst in /home/ec2-user/SageMaker\n",
      "multiprocessing not available, fall back to single threaded encoding\n",
      "time: 0.00042128562927246094  count: 0\n",
      "Creating .rec file from /home/ec2-user/SageMaker/images_test.lst in /home/ec2-user/SageMaker\n",
      "multiprocessing not available, fall back to single threaded encoding\n",
      "time: 0.0004999637603759766  count: 0\n"
     ]
    }
   ],
   "source": [
    "# Need im2rec.py module in the path, download from\n",
    "# https://github.com/apache/incubator-mxnet/blob/master/tools/im2rec.py\n",
    "\n",
    "# Path and classes for img's \n",
    "# ./img_path/<img_class(es)>/img.jpg\n",
    "\"\"\"\n",
    "/img_path\n",
    "    img_class1/\n",
    "        file1.jpg\n",
    "        file2.jpg\n",
    "        ...\n",
    "    img_class2/\n",
    "        file1.jpg\n",
    "        file2.jpg\n",
    "        ...\n",
    "\n",
    "\"\"\"\n",
    "\n",
    "img_path=\"./images\"\n",
    "# e.g.\n",
    "# ./train/nohelmet/101.jpg; images in ./train, and first class = 'nohelmet'\n",
    "\n",
    "# Where to store .lst (.lst appended to filename) and binary recordIO file\n",
    "# (.rec appended)\n",
    "lstrec_path = \"./images\"\n",
    "\n",
    "\n",
    "# First, we need to generate a .lst file, i.e. a list of these \n",
    "# images containing label and filename information.\n",
    "# use \"$<python variable> to pass python variable to shell as command parameters\n",
    "# split data into test and train automatically \n",
    "\n",
    "!python ./im2rec.py  \"$img_path\" \"$lstrec_path\" --list --recursive --train-ratio 0.7 --test-ratio 0.3  \n",
    "\n",
    "\n",
    "# Create .idx and .rec file for training, using .lst file for file location\n",
    "train_lst_path = lstrec_path + \"_train.lst\"\n",
    "test_lst_path = lstrec_path + \"_test.lst\"\n",
    "\n",
    "!python im2rec.py  \"$train_lst_path\" \"$img_path\"  --pass-through --pack-label \n",
    "!python im2rec.py  \"$test_lst_path\" \"$img_path\"  --pass-through --pack-label \n",
    "\n"
   ]
  },
  {
   "cell_type": "code",
   "execution_count": 20,
   "metadata": {},
   "outputs": [
    {
     "name": "stdout",
     "output_type": "stream",
     "text": [
      "Creating .rec file from /home/ec2-user/SageMaker/test.lst in /home/ec2-user/SageMaker\r\n"
     ]
    }
   ],
   "source": [
    "# create validation recordIO file\n",
    "\n",
    "img_path=\"./test\"\n",
    "\n",
    "lstrec_path = \"./test\"\n",
    "\n",
    "!python ./im2rec.py  \"$img_path\" \"$lstrec_path\"  --recursive --list --num-thread=8\n",
    "\n",
    "\n",
    "# Create .idx and .rec file for training\n",
    "lst_path = lstrec_path + \".lst\"\n",
    "!python im2rec.py  \"$lst_path\" \"$img_path\" --recursive --pass-through --pack-label --num-thread 8"
   ]
  },
  {
   "cell_type": "code",
   "execution_count": null,
   "metadata": {},
   "outputs": [],
   "source": []
  }
 ],
 "metadata": {
  "kernelspec": {
   "display_name": "conda_mxnet_p36",
   "language": "python",
   "name": "conda_mxnet_p36"
  },
  "language_info": {
   "codemirror_mode": {
    "name": "ipython",
    "version": 3
   },
   "file_extension": ".py",
   "mimetype": "text/x-python",
   "name": "python",
   "nbconvert_exporter": "python",
   "pygments_lexer": "ipython3",
   "version": "3.6.5"
  }
 },
 "nbformat": 4,
 "nbformat_minor": 2
}
