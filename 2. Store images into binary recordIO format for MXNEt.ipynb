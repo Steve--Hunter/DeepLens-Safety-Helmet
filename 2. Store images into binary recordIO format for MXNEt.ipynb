{
 "cells": [
  {
   "cell_type": "markdown",
   "metadata": {},
   "source": [
    "Taken from \n",
    "https://gluon-cv.mxnet.io/build/examples_datasets/recordio.html\n",
    "\n"
   ]
  },
  {
   "cell_type": "code",
   "execution_count": 17,
   "metadata": {},
   "outputs": [
    {
     "name": "stdout",
     "output_type": "stream",
     "text": [
      "helmet 0\n",
      "nohelmet 1\n",
      "Creating .rec file from /home/ec2-user/SageMaker/train.lst in /home/ec2-user/SageMaker\n",
      "time: 0.0019006729125976562  count: 0\n"
     ]
    },
    {
     "data": {
      "text/plain": [
       "'\\n!python ./im2rec.py  ./train_rec ./train  --recursive --list --num-thread=8\\n\\n!python ./im2rec.py  ./train_rec ./train  --recursive --pass-through --pack-label --num-thread 8\\n\\n'"
      ]
     },
     "execution_count": 17,
     "metadata": {},
     "output_type": "execute_result"
    }
   ],
   "source": [
    "# Need im2rec.py module in the path, from\n",
    "# https://github.com/apache/incubator-mxnet/blob/master/tools/im2rec.py\n",
    "\n",
    "# Path and classes for img's \n",
    "# ./img_path/<img_class(es)>/img.jpg\n",
    "\n",
    "# where to find the imgs, in the folder structure above\n",
    "img_path=\"./train\"\n",
    "# e.g.\n",
    "# ./train/nohelmet/101.jpg\n",
    "\n",
    "# Where to store .lst (.lst appended) and binary recordIO file (.rec appended)\n",
    "lstrec_path = \"./train\"\n",
    "\n",
    "\n",
    "# First, we need to generate a .lst file, i.e. a list of these \n",
    "# images containing label and filename information.\n",
    "# use \"$<python variable> to pass python variable to shell as command parameters\n",
    "\n",
    "\n",
    "!python ./im2rec.py  \"$img_path\" \"$lstrec_path\"  --recursive --list --num-thread=8\n",
    "\n",
    "\n",
    "# Create .idx and .rec file for training\n",
    "lst_path = lstrec_path + \".lst\"\n",
    "!python im2rec.py  \"$lst_path\" \"$img_path\" --recursive --pass-through --pack-label --num-thread 8\n",
    "\n"
   ]
  },
  {
   "cell_type": "code",
   "execution_count": null,
   "metadata": {},
   "outputs": [],
   "source": [
    "# create validation recordIO file\n",
    "\n",
    "img_path=\"./test\"\n",
    "\n",
    "lstrec_path = \"./test\"\n",
    "\n",
    "!python ./im2rec.py  \"$img_path\" \"$lstrec_path\"  --recursive --list --num-thread=8\n",
    "\n",
    "\n",
    "# Create .idx and .rec file for training\n",
    "lst_path = lstrec_path + \".lst\"\n",
    "!python im2rec.py  \"$lst_path\" \"$img_path\" --recursive --pass-through --pack-label --num-thread 8"
   ]
  }
 ],
 "metadata": {
  "kernelspec": {
   "display_name": "conda_mxnet_p36",
   "language": "python",
   "name": "conda_mxnet_p36"
  },
  "language_info": {
   "codemirror_mode": {
    "name": "ipython",
    "version": 3
   },
   "file_extension": ".py",
   "mimetype": "text/x-python",
   "name": "python",
   "nbconvert_exporter": "python",
   "pygments_lexer": "ipython3",
   "version": "3.6.4"
  }
 },
 "nbformat": 4,
 "nbformat_minor": 2
}
